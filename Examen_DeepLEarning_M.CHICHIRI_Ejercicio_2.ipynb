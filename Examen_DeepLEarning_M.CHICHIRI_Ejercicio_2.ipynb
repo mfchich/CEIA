{
 "cells": [
  {
   "cell_type": "markdown",
   "metadata": {},
   "source": [
    "# Trabajo Práctico Final\n",
    "## Aprendizaje Profundo\n",
    "## Ejercicio 2\n",
    "\n",
    "\n",
    "##  Cohorte : 6Co2022\n",
    "\n",
    "### Marcelo Chichiri"
   ]
  },
  {
   "cell_type": "markdown",
   "metadata": {},
   "source": [
    "#### Enunciado :\n",
    "Utilizando el mismo dataset que en el link anterior, diseñar una red neuronal que haga un overfitting sobre el dataset. ¿Cómo saben que la red neuronal está haciendo overfitting? Agregar regularización y encontrar los parámetros correctos para lograr un buen fit. Explicar el procedimiento realizado."
   ]
  },
  {
   "cell_type": "markdown",
   "metadata": {},
   "source": [
    "#### Respuesta:\n",
    "Se utilizó una red de tres capas ocultas, de 400, 200 y 100 neuronas con función de activación sigmoid para todas las capas excepto la de salida que es lineal.\\\n",
    "Se realizo el entrenamiento con 120 epocas.\\\n",
    "A pesar del tamaño de la red y de haber utilizado un learning rate de 0.0005 para lograr que la red se especialice tanto como para hacer overfeeting, eso no se logró. Se puede apreciar que la respuesta en validación es igual a la respuesta en training. Esto puede deberse a que el dataset aparentemente está generado con una función sin ruido.\n",
    "\n",
    "A pesar de no haber logrado hacer overfeeting se aplicó regularización, aunque no sería necesario. Se puede apreciar que con regularización se llega a un error de 8.6e-10 frente al error de 2.4e-06 que se había llegado sin regularización. También se aprecia que sin regularización el error siempre es descendente, mientras que con regularización, antes de las 60 épocas, el error tiene grandes fluctuaciones. Después de las 60 épocas el error se estabiliza. \n"
   ]
  },
  {
   "cell_type": "code",
   "execution_count": 1,
   "metadata": {},
   "outputs": [],
   "source": [
    "# Importación de librerias necesarias\n",
    "import pandas as pd \n",
    "import torch\n",
    "import numpy as np\n",
    "import matplotlib.pyplot as plt "
   ]
  },
  {
   "cell_type": "markdown",
   "metadata": {},
   "source": [
    "## Lectura y análisis de dataset "
   ]
  },
  {
   "cell_type": "code",
   "execution_count": 2,
   "metadata": {
    "id": "-rLvGkLhaJpo"
   },
   "outputs": [],
   "source": [
    "df = pd.read_csv('dataset_1.csv')"
   ]
  },
  {
   "cell_type": "code",
   "execution_count": 3,
   "metadata": {
    "colab": {
     "base_uri": "https://localhost:8080/"
    },
    "id": "8RLJywmEddT1",
    "outputId": "4f54a067-3f71-4277-c97f-a1a3862c71df"
   },
   "outputs": [
    {
     "data": {
      "text/plain": [
       "10000"
      ]
     },
     "execution_count": 3,
     "metadata": {},
     "output_type": "execute_result"
    }
   ],
   "source": [
    "len(df)"
   ]
  },
  {
   "cell_type": "code",
   "execution_count": 4,
   "metadata": {
    "colab": {
     "base_uri": "https://localhost:8080/"
    },
    "id": "QQGvWlh6doEU",
    "outputId": "ee764fc7-f1b1-4a9b-9dfc-fca1f1ea77e5"
   },
   "outputs": [
    {
     "name": "stdout",
     "output_type": "stream",
     "text": [
      "<class 'pandas.core.frame.DataFrame'>\n",
      "RangeIndex: 10000 entries, 0 to 9999\n",
      "Data columns (total 2 columns):\n",
      " #   Column  Non-Null Count  Dtype  \n",
      "---  ------  --------------  -----  \n",
      " 0   # X     10000 non-null  float64\n",
      " 1   Y       10000 non-null  float64\n",
      "dtypes: float64(2)\n",
      "memory usage: 156.4 KB\n"
     ]
    }
   ],
   "source": [
    "df.info()"
   ]
  },
  {
   "cell_type": "code",
   "execution_count": 5,
   "metadata": {
    "colab": {
     "base_uri": "https://localhost:8080/",
     "height": 285
    },
    "id": "uCWWUijYe_iS",
    "outputId": "c6281dcd-b6ce-41d7-b55d-61840dad71ac"
   },
   "outputs": [
    {
     "data": {
      "text/html": [
       "<div>\n",
       "<style scoped>\n",
       "    .dataframe tbody tr th:only-of-type {\n",
       "        vertical-align: middle;\n",
       "    }\n",
       "\n",
       "    .dataframe tbody tr th {\n",
       "        vertical-align: top;\n",
       "    }\n",
       "\n",
       "    .dataframe thead th {\n",
       "        text-align: right;\n",
       "    }\n",
       "</style>\n",
       "<table border=\"1\" class=\"dataframe\">\n",
       "  <thead>\n",
       "    <tr style=\"text-align: right;\">\n",
       "      <th></th>\n",
       "      <th># X</th>\n",
       "      <th>Y</th>\n",
       "    </tr>\n",
       "  </thead>\n",
       "  <tbody>\n",
       "    <tr>\n",
       "      <th>0</th>\n",
       "      <td>1.791979</td>\n",
       "      <td>4.952906</td>\n",
       "    </tr>\n",
       "    <tr>\n",
       "      <th>1</th>\n",
       "      <td>0.846885</td>\n",
       "      <td>1.424248</td>\n",
       "    </tr>\n",
       "    <tr>\n",
       "      <th>2</th>\n",
       "      <td>1.000300</td>\n",
       "      <td>0.454364</td>\n",
       "    </tr>\n",
       "    <tr>\n",
       "      <th>3</th>\n",
       "      <td>1.884188</td>\n",
       "      <td>6.681510</td>\n",
       "    </tr>\n",
       "    <tr>\n",
       "      <th>4</th>\n",
       "      <td>0.889089</td>\n",
       "      <td>1.211691</td>\n",
       "    </tr>\n",
       "  </tbody>\n",
       "</table>\n",
       "</div>"
      ],
      "text/plain": [
       "        # X         Y\n",
       "0  1.791979  4.952906\n",
       "1  0.846885  1.424248\n",
       "2  1.000300  0.454364\n",
       "3  1.884188  6.681510\n",
       "4  0.889089  1.211691"
      ]
     },
     "execution_count": 5,
     "metadata": {},
     "output_type": "execute_result"
    }
   ],
   "source": [
    "df.head()"
   ]
  },
  {
   "cell_type": "markdown",
   "metadata": {
    "id": "SzFOsM5Cqry_"
   },
   "source": [
    "## Split"
   ]
  },
  {
   "cell_type": "code",
   "execution_count": 6,
   "metadata": {},
   "outputs": [],
   "source": [
    " # ok\n",
    "x=df.iloc[:,0].values \n",
    "y=df.iloc[:,1].values\n",
    " \n",
    "largo = len(y)\n",
    "x = x.squeeze().reshape(largo, 1)\n",
    "y = y.squeeze().reshape(largo, 1)"
   ]
  },
  {
   "cell_type": "code",
   "execution_count": 7,
   "metadata": {},
   "outputs": [
    {
     "data": {
      "text/plain": [
       "10000"
      ]
     },
     "execution_count": 7,
     "metadata": {},
     "output_type": "execute_result"
    }
   ],
   "source": [
    "len(x)"
   ]
  },
  {
   "cell_type": "code",
   "execution_count": 8,
   "metadata": {
    "id": "78XI5TbTqhvC"
   },
   "outputs": [],
   "source": [
    "n = len(x)\n",
    "idx = np.random.permutation(np.arange(0, n))\n",
    "train_idx = idx[0:int(0.80 * n)]\n",
    "valid_idx = idx[int(0.80 * n):]"
   ]
  },
  {
   "cell_type": "code",
   "execution_count": 9,
   "metadata": {},
   "outputs": [
    {
     "name": "stdout",
     "output_type": "stream",
     "text": [
      "datos para training : 8000, datos para validación : 2000\n"
     ]
    }
   ],
   "source": [
    "n_train = len(train_idx)\n",
    "n_valid = len(valid_idx)\n",
    "print(f'datos para training : {n_train}, datos para validación : {n_valid}')"
   ]
  },
  {
   "cell_type": "code",
   "execution_count": 10,
   "metadata": {
    "colab": {
     "base_uri": "https://localhost:8080/"
    },
    "id": "Tzc-2T-mr-tQ",
    "outputId": "7e7372ce-ab3b-4c03-9241-55954a34f5e9"
   },
   "outputs": [
    {
     "name": "stdout",
     "output_type": "stream",
     "text": [
      "<class 'numpy.ndarray'>\n",
      "<class 'numpy.ndarray'>\n"
     ]
    }
   ],
   "source": [
    "print(type(y))\n",
    "print(type(y))"
   ]
  },
  {
   "cell_type": "code",
   "execution_count": 11,
   "metadata": {
    "colab": {
     "base_uri": "https://localhost:8080/"
    },
    "id": "X4BhkvlRrHCb",
    "outputId": "b2907f85-22ee-4c77-f208-5e2c8b9e143b"
   },
   "outputs": [
    {
     "name": "stdout",
     "output_type": "stream",
     "text": [
      "(8000, 1)\n",
      "(8000, 1)\n",
      "(2000, 1)\n",
      "(2000, 1)\n"
     ]
    },
    {
     "data": {
      "image/png": "[encoded data removed]",
      "text/plain": [
       "<Figure size 720x432 with 1 Axes>"
      ]
     },
     "metadata": {
      "needs_background": "light"
     },
     "output_type": "display_data"
    },
    {
     "data": {
      "image/png": "[encoded data removed]",
      "text/plain": [
       "<Figure size 720x432 with 1 Axes>"
      ]
     },
     "metadata": {
      "needs_background": "light"
     },
     "output_type": "display_data"
    }
   ],
   "source": [
    "\n",
    "x_train = x[train_idx]\n",
    "y_train = y[train_idx]\n",
    "print(x_train.shape)\n",
    "print(y_train.shape)\n",
    "\n",
    "x_valid = x[valid_idx]\n",
    "y_valid = y[valid_idx]\n",
    "print(x_valid.shape)\n",
    "print(y_valid.shape)\n",
    "\n",
    "plt.figure(figsize=(10,6))\n",
    "plt.scatter(x_train, y_train)\n",
    "plt.show()\n",
    "\n",
    "plt.figure(figsize=(10,6))\n",
    "plt.scatter(x_valid, y_valid)\n",
    "plt.show()"
   ]
  },
  {
   "cell_type": "markdown",
   "metadata": {
    "id": "Wsjx0czUtqYM"
   },
   "source": [
    "## NNet sin embeddings"
   ]
  },
  {
   "cell_type": "code",
   "execution_count": 12,
   "metadata": {
    "id": "yw_zBUHytsMy"
   },
   "outputs": [],
   "source": [
    "import torch\n",
    "from torch.utils.data import Dataset, DataLoader\n",
    "from sklearn import metrics"
   ]
  },
  {
   "cell_type": "code",
   "execution_count": 13,
   "metadata": {
    "id": "cLEnLuxBtxbh"
   },
   "outputs": [],
   "source": [
    "class MyDataset(Dataset):\n",
    "\n",
    "    def __init__(self, X, y):\n",
    "        self.X = X\n",
    "        self.y = y\n",
    "\n",
    "    def __len__(self):\n",
    "        return self.X.shape[0]\n",
    "\n",
    "    def __getitem__(self, idx):\n",
    "        return self.X[idx], self.y[idx]"
   ]
  },
  {
   "cell_type": "code",
   "execution_count": 14,
   "metadata": {
    "id": "tkxQFaKOuPpX"
   },
   "outputs": [],
   "source": [
    "train_ds = MyDataset(x_train, y_train) # dataset de entrenamiento"
   ]
  },
  {
   "cell_type": "code",
   "execution_count": 15,
   "metadata": {
    "colab": {
     "base_uri": "https://localhost:8080/"
    },
    "id": "332GvDpvuOZO",
    "outputId": "8365e07c-c5ae-420b-dc4c-bfd4428d13ec"
   },
   "outputs": [
    {
     "data": {
      "text/plain": [
       "8000"
      ]
     },
     "execution_count": 15,
     "metadata": {},
     "output_type": "execute_result"
    }
   ],
   "source": [
    "len(train_ds)"
   ]
  },
  {
   "cell_type": "code",
   "execution_count": 16,
   "metadata": {
    "id": "Ta62nC7fusbq"
   },
   "outputs": [],
   "source": [
    "valid_ds = MyDataset(x_valid, y_valid)"
   ]
  },
  {
   "cell_type": "code",
   "execution_count": 17,
   "metadata": {
    "id": "Bfo-6GdfvAoB"
   },
   "outputs": [],
   "source": [
    "train_dataloader = DataLoader(train_ds, batch_size=32, shuffle=True)\n",
    "valid_dataloader = DataLoader(valid_ds, batch_size=32, shuffle=True)"
   ]
  },
  {
   "cell_type": "code",
   "execution_count": 18,
   "metadata": {},
   "outputs": [
    {
     "data": {
      "text/plain": [
       "NNet(\n",
       "  (linear1): Linear(in_features=1, out_features=10, bias=True)\n",
       "  (linear2): Linear(in_features=10, out_features=8, bias=True)\n",
       "  (linear3): Linear(in_features=8, out_features=2, bias=True)\n",
       "  (linear4): Linear(in_features=2, out_features=1, bias=True)\n",
       ")"
      ]
     },
     "execution_count": 18,
     "metadata": {},
     "output_type": "execute_result"
    }
   ],
   "source": [
    "class NNet(torch.nn.Module):\n",
    "    def __init__(self,D_in, H1, H2, H3, D_out):\n",
    "        super(NNet,self).__init__()\n",
    "        self.linear1 = torch.nn.Linear(D_in,H1)      \n",
    "        self.linear2 = torch.nn.Linear(H1,H2)\n",
    "        self.linear3 = torch.nn.Linear(H2,H3)\n",
    "        self.linear4 = torch.nn.Linear(H3,D_out)\n",
    "        \n",
    "        \n",
    "    def forward(self,x):\n",
    "        x = self.linear1(x) \n",
    "        x = torch.sigmoid(x)  \n",
    "        x = self.linear2(x)    \n",
    "        x = torch.sigmoid(x)  \n",
    "        x = self.linear3(x)  \n",
    "        x = torch.sigmoid(x)  \n",
    "        x = self.linear4(x)  \n",
    "\n",
    "        return x\n",
    "# Prueba de red\n",
    "red = NNet(1, 10, 8, 2, 1) \n",
    "red"
   ]
  },
  {
   "cell_type": "code",
   "execution_count": 19,
   "metadata": {
    "id": "aNKqUpTvyDP3"
   },
   "outputs": [
    {
     "data": {
      "text/plain": [
       "NNet(\n",
       "  (linear1): Linear(in_features=1, out_features=400, bias=True)\n",
       "  (linear2): Linear(in_features=400, out_features=200, bias=True)\n",
       "  (linear3): Linear(in_features=200, out_features=100, bias=True)\n",
       "  (linear4): Linear(in_features=100, out_features=1, bias=True)\n",
       ")"
      ]
     },
     "execution_count": 19,
     "metadata": {},
     "output_type": "execute_result"
    }
   ],
   "source": [
    "nnet = NNet(1, 400, 200, 100, 1) \n",
    "\n",
    "learning_rate = 0.0005\n",
    "nnet"
   ]
  },
  {
   "cell_type": "code",
   "execution_count": 20,
   "metadata": {
    "id": "9nHZ-k_UzGby"
   },
   "outputs": [],
   "source": [
    "loss_function = torch.nn.MSELoss()\n",
    "optimizer = torch.optim.Adam(nnet.parameters(), lr=learning_rate)"
   ]
  },
  {
   "cell_type": "code",
   "execution_count": 21,
   "metadata": {
    "id": "AmOhex4Y39uC"
   },
   "outputs": [
    {
     "data": {
      "text/plain": [
       "'cpu'"
      ]
     },
     "execution_count": 21,
     "metadata": {},
     "output_type": "execute_result"
    }
   ],
   "source": [
    "device = \"\"\n",
    "if torch.cuda.is_available():\n",
    "    device = \"cuda:0\"\n",
    "else:\n",
    "    device = \"cpu\"\n",
    "\n",
    "device"
   ]
  },
  {
   "cell_type": "code",
   "execution_count": 22,
   "metadata": {
    "colab": {
     "base_uri": "https://localhost:8080/"
    },
    "id": "OCgUSQ7T4LxK",
    "outputId": "206b949a-3704-4f01-d657-a4bfdb634975"
   },
   "outputs": [
    {
     "name": "stdout",
     "output_type": "stream",
     "text": [
      "Epoch: 0 | Training loss: 0.4453244937956333 | Valid loss: 0.0330797405987978 \n",
      "Epoch: 1 | Training loss: 0.09382069511711598 | Valid loss: 0.01917749361693859 \n",
      "Epoch: 2 | Training loss: 0.075527782574296 | Valid loss: 0.018062862470746042 \n",
      "Epoch: 3 | Training loss: 0.07159958447515964 | Valid loss: 0.017245164573192598 \n",
      "Epoch: 4 | Training loss: 0.06966610279679299 | Valid loss: 0.01843311142921448 \n",
      "Epoch: 5 | Training loss: 0.06757995286583901 | Valid loss: 0.016767197087407114 \n",
      "Epoch: 6 | Training loss: 0.06528404073417186 | Valid loss: 0.016238881826400757 \n",
      "Epoch: 7 | Training loss: 0.06396216210722923 | Valid loss: 0.015553331732749939 \n",
      "Epoch: 8 | Training loss: 0.06137691251933575 | Valid loss: 0.015285721585154533 \n",
      "Epoch: 9 | Training loss: 0.058821139723062514 | Valid loss: 0.015057910487055778 \n",
      "Epoch: 10 | Training loss: 0.05637549917399883 | Valid loss: 0.014137521132826805 \n",
      "Epoch: 11 | Training loss: 0.05452531591057777 | Valid loss: 0.013369558349251747 \n",
      "Epoch: 12 | Training loss: 0.05285083450376987 | Valid loss: 0.01394817265868187 \n",
      "Epoch: 13 | Training loss: 0.04975358225405216 | Valid loss: 0.01250284994393587 \n",
      "Epoch: 14 | Training loss: 0.047811850652098656 | Valid loss: 0.01279982328414917 \n",
      "Epoch: 15 | Training loss: 0.04566686714440584 | Valid loss: 0.01113749136775732 \n",
      "Epoch: 16 | Training loss: 0.04245615041255951 | Valid loss: 0.010389100834727287 \n",
      "Epoch: 17 | Training loss: 0.03926066076755524 | Valid loss: 0.009520418033003807 \n",
      "Epoch: 18 | Training loss: 0.03589559091627598 | Valid loss: 0.00958189745247364 \n",
      "Epoch: 19 | Training loss: 0.03164662034809589 | Valid loss: 0.007787162184715271 \n",
      "Epoch: 20 | Training loss: 0.027105029661208393 | Valid loss: 0.006285761397331953 \n",
      "Epoch: 21 | Training loss: 0.021781348519027233 | Valid loss: 0.004681402403861284 \n",
      "Epoch: 22 | Training loss: 0.014612308776006102 | Valid loss: 0.0027078860718756912 \n",
      "Epoch: 23 | Training loss: 0.007875180814415217 | Valid loss: 0.0013862592559307813 \n",
      "Epoch: 24 | Training loss: 0.0039805929446592924 | Valid loss: 0.0006783790371846408 \n",
      "Epoch: 25 | Training loss: 0.0024546730683650824 | Valid loss: 0.00048783430596813557 \n",
      "Epoch: 26 | Training loss: 0.0019807702066609637 | Valid loss: 0.0004185414182720706 \n",
      "Epoch: 27 | Training loss: 0.0017614801234449259 | Valid loss: 0.0004042873824946582 \n",
      "Epoch: 28 | Training loss: 0.001633272878709249 | Valid loss: 0.00034180247946642337 \n",
      "Epoch: 29 | Training loss: 0.001407398637617007 | Valid loss: 0.00027110784640535713 \n",
      "Epoch: 30 | Training loss: 0.001044063784967875 | Valid loss: 0.0002109655123203993 \n",
      "Epoch: 31 | Training loss: 0.0008226785106671741 | Valid loss: 0.00018379140266915783 \n",
      "Epoch: 32 | Training loss: 0.0005475877007265808 | Valid loss: 0.00010475497151492163 \n",
      "Epoch: 33 | Training loss: 0.0004328092810465023 | Valid loss: 7.998547921306454e-05 \n",
      "Epoch: 34 | Training loss: 0.0006692784277111059 | Valid loss: 4.784769465913996e-05 \n",
      "Epoch: 35 | Training loss: 0.0002327856016345322 | Valid loss: 6.203690313850529e-05 \n",
      "Epoch: 36 | Training loss: 0.00018007925942947623 | Valid loss: 3.0882654151355385e-05 \n",
      "Epoch: 37 | Training loss: 0.00013520654514286435 | Valid loss: 2.8778411870007404e-05 \n",
      "Epoch: 38 | Training loss: 0.00016507685542455875 | Valid loss: 3.12866538297385e-05 \n",
      "Epoch: 39 | Training loss: 8.885274419299095e-05 | Valid loss: 1.5574631877825596e-05 \n",
      "Epoch: 40 | Training loss: 0.00015294259108668485 | Valid loss: 1.2830925006710459e-05 \n",
      "Epoch: 41 | Training loss: 6.2652318039909e-05 | Valid loss: 8.664259141369257e-06 \n",
      "Epoch: 42 | Training loss: 6.299898684846993e-05 | Valid loss: 2.933568338630721e-05 \n",
      "Epoch: 43 | Training loss: 5.4103497232063094e-05 | Valid loss: 4.33807089284528e-05 \n",
      "Epoch: 44 | Training loss: 0.00013062161052584996 | Valid loss: 2.1007105649914592e-05 \n",
      "Epoch: 45 | Training loss: 7.7817701123422e-05 | Valid loss: 5.236752140262979e-06 \n",
      "Epoch: 46 | Training loss: 9.264753756542632e-05 | Valid loss: 0.0003087678885785863 \n",
      "Epoch: 47 | Training loss: 0.0007387169085786809 | Valid loss: 2.215409886048292e-06 \n",
      "Epoch: 48 | Training loss: 1.3380354206674383e-05 | Valid loss: 5.59340799372876e-06 \n",
      "Epoch: 49 | Training loss: 1.283604558557272e-05 | Valid loss: 3.547766147676157e-06 \n",
      "Epoch: 50 | Training loss: 1.1064823555443582e-05 | Valid loss: 2.997596509885625e-06 \n",
      "Epoch: 51 | Training loss: 2.4991798009978083e-05 | Valid loss: 1.5181113458311302e-06 \n",
      "Epoch: 52 | Training loss: 4.582134726842924e-05 | Valid loss: 1.3156300083210227e-06 \n",
      "Epoch: 53 | Training loss: 1.4049484286715597e-05 | Valid loss: 3.486793837510049e-06 \n",
      "Epoch: 54 | Training loss: 4.0587625551779636e-05 | Valid loss: 1.792204421508359e-05 \n",
      "Epoch: 55 | Training loss: 0.00043426545628608436 | Valid loss: 1.1848436979562393e-06 \n",
      "Epoch: 56 | Training loss: 6.033093281985202e-06 | Valid loss: 1.10168201945271e-06 \n",
      "Epoch: 57 | Training loss: 7.805440491665649e-06 | Valid loss: 7.174781376306783e-07 \n",
      "Epoch: 58 | Training loss: 7.92452046107428e-06 | Valid loss: 1.4189371713655419e-06 \n",
      "Epoch: 59 | Training loss: 1.4645905549514282e-05 | Valid loss: 4.704867787950206e-06 \n",
      "Epoch: 60 | Training loss: 1.503871254499245e-05 | Valid loss: 7.638762572241831e-07 \n",
      "Epoch: 61 | Training loss: 4.561113394447602e-05 | Valid loss: 4.7777325846254825e-05 \n",
      "Epoch: 62 | Training loss: 2.9571321965704557e-05 | Valid loss: 7.648723007150693e-06 \n",
      "Epoch: 63 | Training loss: 8.260530113875575e-05 | Valid loss: 0.00022758552886079997 \n",
      "Epoch: 64 | Training loss: 9.911797105633013e-05 | Valid loss: 4.037916845845757e-06 \n",
      "Epoch: 65 | Training loss: 3.555993411555391e-05 | Valid loss: 4.62491251892061e-06 \n",
      "Epoch: 66 | Training loss: 9.423454510624652e-06 | Valid loss: 1.5199497975117993e-06 \n",
      "Epoch: 67 | Training loss: 0.00043635536026613407 | Valid loss: 1.7151260020909832e-05 \n",
      "Epoch: 68 | Training loss: 1.3196987741594058e-05 | Valid loss: 1.4582803569282987e-06 \n",
      "Epoch: 69 | Training loss: 8.416398205554287e-06 | Valid loss: 3.7671537429559976e-06 \n",
      "Epoch: 70 | Training loss: 1.7064373846096713e-05 | Valid loss: 2.320654053619364e-06 \n",
      "Epoch: 71 | Training loss: 1.7841302384567825e-05 | Valid loss: 2.392408593732398e-05 \n",
      "Epoch: 72 | Training loss: 0.0001553830280299735 | Valid loss: 4.130438217543997e-06 \n",
      "Epoch: 73 | Training loss: 8.177250102107791e-06 | Valid loss: 1.0354570522395078e-06 \n",
      "Epoch: 74 | Training loss: 4.241978857862705e-06 | Valid loss: 7.448387800650381e-07 \n",
      "Epoch: 75 | Training loss: 5.6189910576904365e-05 | Valid loss: 0.00020486246538348497 \n",
      "Epoch: 76 | Training loss: 0.0004248862429685687 | Valid loss: 6.22553473476728e-07 \n",
      "Epoch: 77 | Training loss: 8.386625945149717e-06 | Valid loss: 1.344479484941985e-06 \n",
      "Epoch: 78 | Training loss: 1.0335431024032004e-05 | Valid loss: 8.608341909166484e-07 \n",
      "Epoch: 79 | Training loss: 9.466674070381486e-06 | Valid loss: 3.4527983116277028e-06 \n",
      "Epoch: 80 | Training loss: 1.555223460900379e-05 | Valid loss: 5.179189414775465e-06 \n",
      "Epoch: 81 | Training loss: 3.249234324539429e-05 | Valid loss: 1.9091046415269374e-05 \n",
      "Epoch: 82 | Training loss: 3.175253755034646e-05 | Valid loss: 1.4943430696803262e-06 \n",
      "Epoch: 83 | Training loss: 0.0002884207971410433 | Valid loss: 0.0005817616116255522 \n",
      "Epoch: 84 | Training loss: 0.0006211991041277543 | Valid loss: 5.025476689297647e-07 \n",
      "Epoch: 85 | Training loss: 3.139084446729612e-06 | Valid loss: 4.874343935625802e-07 \n",
      "Epoch: 86 | Training loss: 2.0180764746555724e-06 | Valid loss: 5.47838562852121e-07 \n",
      "Epoch: 87 | Training loss: 3.4405337314638018e-06 | Valid loss: 7.855237254261737e-07 \n",
      "Epoch: 88 | Training loss: 2.8339070363472274e-06 | Valid loss: 9.021132000270882e-07 \n",
      "Epoch: 89 | Training loss: 8.053665022998757e-06 | Valid loss: 1.2684593930316623e-06 \n",
      "Epoch: 90 | Training loss: 2.450620511467605e-05 | Valid loss: 2.548026122894953e-06 \n",
      "Epoch: 91 | Training loss: 0.00015788789742146036 | Valid loss: 7.214505523734261e-06 \n",
      "Epoch: 92 | Training loss: 1.5944248091727787e-05 | Valid loss: 6.314685010693211e-07 \n",
      "Epoch: 93 | Training loss: 1.4191976135862206e-05 | Valid loss: 6.039822326783905e-06 \n",
      "Epoch: 94 | Training loss: 2.1311615555987374e-05 | Valid loss: 4.442934427970613e-07 \n",
      "Epoch: 95 | Training loss: 3.271398800461611e-05 | Valid loss: 1.7535533988848328e-06 \n"
     ]
    },
    {
     "name": "stdout",
     "output_type": "stream",
     "text": [
      "Epoch: 96 | Training loss: 4.19646965440279e-05 | Valid loss: 2.5400988834007875e-06 \n",
      "Epoch: 97 | Training loss: 4.180629216807574e-05 | Valid loss: 4.321959866501857e-05 \n",
      "Epoch: 98 | Training loss: 3.529404642085865e-05 | Valid loss: 8.663261239416898e-05 \n",
      "Epoch: 99 | Training loss: 0.00037025974271546146 | Valid loss: 3.796095315919956e-07 \n",
      "Epoch: 100 | Training loss: 4.683641310521125e-06 | Valid loss: 3.731752269686694e-07 \n",
      "Epoch: 101 | Training loss: 5.122929033859691e-06 | Valid loss: 5.088325297037955e-07 \n",
      "Epoch: 102 | Training loss: 3.62347609416247e-06 | Valid loss: 8.927624630814535e-07 \n",
      "Epoch: 103 | Training loss: 4.901235468764753e-06 | Valid loss: 1.4441215811530128e-05 \n",
      "Epoch: 104 | Training loss: 2.2276327639701775e-05 | Valid loss: 7.014917391643394e-06 \n",
      "Epoch: 105 | Training loss: 9.86353730868359e-05 | Valid loss: 1.0022514856245834e-05 \n",
      "Epoch: 106 | Training loss: 7.847379014492617e-05 | Valid loss: 1.1979985793004743e-05 \n",
      "Epoch: 107 | Training loss: 3.158600443930482e-05 | Valid loss: 1.1343114943883848e-05 \n",
      "Epoch: 108 | Training loss: 2.873482911695646e-05 | Valid loss: 3.8062201997490776e-07 \n",
      "Epoch: 109 | Training loss: 0.0001269740170123441 | Valid loss: 3.3910875354195013e-06 \n",
      "Epoch: 110 | Training loss: 4.40761644460963e-06 | Valid loss: 1.9127920368191554e-06 \n",
      "Epoch: 111 | Training loss: 9.335725243772685e-06 | Valid loss: 1.912174240715103e-06 \n",
      "Epoch: 112 | Training loss: 1.966093103237654e-05 | Valid loss: 4.8784177688503404e-06 \n",
      "Epoch: 113 | Training loss: 0.00010355949199492897 | Valid loss: 9.238484499292099e-07 \n",
      "Epoch: 114 | Training loss: 2.2974505106049035e-05 | Valid loss: 2.410525076811609e-06 \n",
      "Epoch: 115 | Training loss: 2.391425915789114e-05 | Valid loss: 4.684737720526755e-05 \n",
      "Epoch: 116 | Training loss: 4.623552683642629e-05 | Valid loss: 1.3606775391963311e-06 \n",
      "Epoch: 117 | Training loss: 0.0009986755368640843 | Valid loss: 1.7457595007726923e-05 \n",
      "Epoch: 118 | Training loss: 1.2535058273897448e-05 | Valid loss: 6.698215024698584e-07 \n",
      "Epoch: 119 | Training loss: 2.4178849660074777e-06 | Valid loss: 6.378259490702476e-07 \n"
     ]
    }
   ],
   "source": [
    "# Entrenamiento y validación\n",
    "\n",
    "nnet.to(device)\n",
    "\n",
    "loss_by_epoch = []\n",
    "\n",
    "val_loss_by_epoch = []\n",
    "\n",
    "epocas = 120\n",
    "for epoch in range(epocas):\n",
    "\n",
    "    #########################################################################\n",
    "    ####### TRAINING\n",
    "    #########################################################################\n",
    "\n",
    "    nnet.train(True)\n",
    "    epoch_train_loss = 0\n",
    "\n",
    "    for i_train, data_train in enumerate(train_dataloader):\n",
    "\n",
    "        # obtener los datos del batch\n",
    "        X_train_batch, y_train_batch = data_train\n",
    "\n",
    "        X_train_batch = X_train_batch.to(device).float()\n",
    "        y_train_batch = y_train_batch.to(device).float()\n",
    "\n",
    "        # forward\n",
    "        optimizer.zero_grad()\n",
    "\n",
    "        y_train_batch_hat = nnet(X_train_batch)\n",
    "\n",
    "        # calcula loss\n",
    "        loss_train = loss_function(y_train_batch_hat, y_train_batch)\n",
    "        \n",
    "        # backpropagation\n",
    "        loss_train.backward()\n",
    "\n",
    "        # actualizar los parameteros\n",
    "        optimizer.step()\n",
    "\n",
    "        # acumula loss\n",
    "        epoch_train_loss = epoch_train_loss + loss_train.item() \n",
    "        \n",
    "    loss_by_epoch.append(epoch_train_loss  / len(train_ds))    \n",
    "\n",
    "\n",
    "    #########################################################################\n",
    "    ####### VALIDACION\n",
    "    #########################################################################\n",
    "\n",
    "    nnet.train(False)\n",
    "\n",
    "    val_epoch_loss = 0\n",
    "\n",
    "    for i_train, data_valid in enumerate(valid_dataloader):\n",
    "\n",
    "        # obtener los datos del batch\n",
    "        X_valid_batch, y_valid_batch = data_valid\n",
    "\n",
    "        X_valid_batch = X_valid_batch.to(device).float()\n",
    "        y_valid_batch = y_valid_batch.to(device).float()\n",
    "\n",
    "        # forward\n",
    "        optimizer.zero_grad()\n",
    "        y_valid_batch_hat = nnet(X_valid_batch)\n",
    "\n",
    "        # calcula loss\n",
    "        loss_val = loss_function(y_valid_batch_hat, y_valid_batch)\n",
    "\n",
    "        # acumula loss\n",
    "        val_epoch_loss = val_epoch_loss + loss_val.item() \n",
    "        \n",
    "    val_loss_by_epoch.append(val_epoch_loss / len(valid_ds))\n",
    "\n",
    "    #########################################################################\n",
    "    ####### IMPRIME AVANCE DE ENTRENAMIENTO\n",
    "    #########################################################################\n",
    "\n",
    "    print(f\"Epoch: {epoch} | Training loss: {epoch_train_loss / len(valid_ds)} | Valid loss: {val_epoch_loss / len(valid_ds)} \")"
   ]
  },
  {
   "cell_type": "code",
   "execution_count": 23,
   "metadata": {
    "colab": {
     "base_uri": "https://localhost:8080/",
     "height": 282
    },
    "id": "XjIxb25j6lJ2",
    "outputId": "b6bd793a-d4ee-445f-ac6c-f15dac700035"
   },
   "outputs": [
    {
     "data": {
      "text/plain": [
       "[<matplotlib.lines.Line2D at 0x2082a6bfd90>]"
      ]
     },
     "execution_count": 23,
     "metadata": {},
     "output_type": "execute_result"
    },
    {
     "data": {
      "image/png": "[encoded data removed]",
      "text/plain": [
       "<Figure size 432x288 with 1 Axes>"
      ]
     },
     "metadata": {
      "needs_background": "light"
     },
     "output_type": "display_data"
    }
   ],
   "source": [
    "import matplotlib.pyplot as plt\n",
    "fix, ax1 = plt.subplots(1,1)\n",
    "ax1.plot(loss_by_epoch, color='red')\n",
    "ax1.plot(val_loss_by_epoch, color='blue')"
   ]
  },
  {
   "cell_type": "code",
   "execution_count": 24,
   "metadata": {
    "id": "PW0Sfa6i-dfx"
   },
   "outputs": [
    {
     "name": "stdout",
     "output_type": "stream",
     "text": [
      "**** Se desplazan las curvas para poder apreciar que son todas iguales\n"
     ]
    },
    {
     "data": {
      "image/png": "[encoded data removed]",
      "text/plain": [
       "<Figure size 720x432 with 1 Axes>"
      ]
     },
     "metadata": {
      "needs_background": "light"
     },
     "output_type": "display_data"
    }
   ],
   "source": [
    "# testing\n",
    "\n",
    "nnet.train(False)\n",
    "\n",
    "train_dataloader = DataLoader(train_ds, batch_size=20000, shuffle=True)\n",
    "valid_dataloader = DataLoader(valid_ds, batch_size=20000, shuffle=True)\n",
    "\n",
    "data_iter_va=iter(valid_dataloader)\n",
    "data_iter_tr=iter(train_dataloader)\n",
    "\n",
    "X_batch_tr, y_batch_tr = data_iter_tr.next()\n",
    "X_batch_va, y_batch_va = data_iter_va.next()\n",
    "\n",
    "X_batch_tr = X_batch_tr.to(device).float()\n",
    "y_batch_tr = y_batch_tr.to(device).float()\n",
    "\n",
    "X_batch_va = X_batch_va.to(device).float()\n",
    "y_batch_va = y_batch_va.to(device).float()\n",
    "\n",
    "y_batch_hat_tr = nnet(X_batch_tr)\n",
    "y_batch_hat_va = nnet(X_batch_va)\n",
    "\n",
    "#print(y_batch_hat, y_batch)\n",
    "print('**** Se desplazan las curvas para poder apreciar que son todas iguales')\n",
    "plt.figure(figsize=(10,6))\n",
    "plt.scatter(X_batch_tr, y_batch_hat_tr.detach().numpy()+1, color='red')\n",
    "plt.scatter(X_batch_va, y_batch_hat_va.detach().numpy()+2, color='green')\n",
    "plt.scatter(x_train, y_train+3, color='blue')\n",
    "plt.scatter(x, y, color='pink')\n",
    "plt.show()"
   ]
  },
  {
   "cell_type": "code",
   "execution_count": 25,
   "metadata": {},
   "outputs": [
    {
     "data": {
      "text/plain": [
       "6.378259490702476e-07"
      ]
     },
     "execution_count": 25,
     "metadata": {},
     "output_type": "execute_result"
    }
   ],
   "source": [
    "val_epoch_loss / len(valid_ds)"
   ]
  },
  {
   "cell_type": "markdown",
   "metadata": {},
   "source": [
    "## Modelo con regularizacion"
   ]
  },
  {
   "cell_type": "code",
   "execution_count": 26,
   "metadata": {},
   "outputs": [],
   "source": [
    "# En la función de optimización se agrega el parámetro weight_decay para regularizar\n",
    "loss_function = torch.nn.MSELoss()\n",
    "optimizer = torch.optim.Adam(nnet.parameters(), lr=learning_rate, weight_decay=1e-6)\n"
   ]
  },
  {
   "cell_type": "code",
   "execution_count": 27,
   "metadata": {},
   "outputs": [
    {
     "data": {
      "text/plain": [
       "'cpu'"
      ]
     },
     "execution_count": 27,
     "metadata": {},
     "output_type": "execute_result"
    }
   ],
   "source": [
    "device = \"\"\n",
    "if torch.cuda.is_available():\n",
    "    device = \"cuda:0\"\n",
    "else:\n",
    "    device = \"cpu\"\n",
    "\n",
    "device"
   ]
  },
  {
   "cell_type": "code",
   "execution_count": 28,
   "metadata": {},
   "outputs": [
    {
     "name": "stdout",
     "output_type": "stream",
     "text": [
      "Epoch: 0 | Training loss: 2.5057231596292696e-09 | Valid loss: 1.9634276628494263e-05 AUC: \n",
      "Epoch: 1 | Training loss: 4.913202486932278e-06 | Valid loss: 1.3044989900663495e-06 AUC: \n",
      "Epoch: 2 | Training loss: 3.2675365218892694e-07 | Valid loss: 4.547209478914738e-06 AUC: \n",
      "Epoch: 3 | Training loss: 1.1295159347355367e-06 | Valid loss: 1.1453935876488685e-05 AUC: \n",
      "Epoch: 4 | Training loss: 2.8439234010875227e-06 | Valid loss: 7.913939654827118e-06 AUC: \n",
      "Epoch: 5 | Training loss: 1.9644268322736024e-06 | Valid loss: 1.8341667018830776e-06 AUC: \n",
      "Epoch: 6 | Training loss: 4.5438893721438943e-07 | Valid loss: 1.8773855117615312e-07 AUC: \n",
      "Epoch: 7 | Training loss: 4.789244485436939e-08 | Valid loss: 3.0036340467631817e-06 AUC: \n",
      "Epoch: 8 | Training loss: 7.535598124377429e-07 | Valid loss: 5.532898008823395e-06 AUC: \n",
      "Epoch: 9 | Training loss: 1.3864946085959672e-06 | Valid loss: 4.8454315401613715e-06 AUC: \n",
      "Epoch: 10 | Training loss: 1.2146412627771497e-06 | Valid loss: 2.154480665922165e-06 AUC: \n",
      "Epoch: 11 | Training loss: 5.412650643847882e-07 | Valid loss: 2.122966689057648e-07 AUC: \n",
      "Epoch: 12 | Training loss: 5.393035098677501e-08 | Valid loss: 5.119831184856594e-07 AUC: \n",
      "Epoch: 13 | Training loss: 1.2520715245045722e-07 | Valid loss: 2.1447855979204177e-06 AUC: \n",
      "Epoch: 14 | Training loss: 5.289577529765665e-07 | Valid loss: 3.0513836536556484e-06 AUC: \n",
      "Epoch: 15 | Training loss: 7.534041651524603e-07 | Valid loss: 2.341530052945018e-06 AUC: \n",
      "Epoch: 16 | Training loss: 5.776516627520323e-07 | Valid loss: 8.920879918150604e-07 AUC: \n",
      "Epoch: 17 | Training loss: 2.1937003475613893e-07 | Valid loss: 8.324174996232614e-08 AUC: \n",
      "Epoch: 18 | Training loss: 2.1015948732383548e-08 | Valid loss: 4.2842875700443985e-07 AUC: \n",
      "Epoch: 19 | Training loss: 1.09534987132065e-07 | Valid loss: 1.2717449571937323e-06 AUC: \n",
      "Epoch: 20 | Training loss: 3.2092255423776807e-07 | Valid loss: 1.622019335627556e-06 AUC: \n",
      "Epoch: 21 | Training loss: 4.0805427124723794e-07 | Valid loss: 1.157930470071733e-06 AUC: \n",
      "Epoch: 22 | Training loss: 2.912505296990275e-07 | Valid loss: 3.987456439062953e-07 AUC: \n",
      "Epoch: 23 | Training loss: 1.0051993012893945e-07 | Valid loss: 5.969711128273048e-08 AUC: \n",
      "Epoch: 24 | Training loss: 1.4490228750219102e-08 | Valid loss: 3.378995461389422e-07 AUC: \n",
      "Epoch: 25 | Training loss: 8.244196942541748e-08 | Valid loss: 7.952176383696497e-07 AUC: \n",
      "Epoch: 26 | Training loss: 1.954627368832007e-07 | Valid loss: 8.929060422815382e-07 AUC: \n",
      "Epoch: 27 | Training loss: 2.1973164984956382e-07 | Valid loss: 5.52935351151973e-07 AUC: \n",
      "Epoch: 28 | Training loss: 1.359333109576255e-07 | Valid loss: 1.522011443739757e-07 AUC: \n",
      "Epoch: 29 | Training loss: 3.7527162930928174e-08 | Valid loss: 6.007813499309122e-08 AUC: \n",
      "Epoch: 30 | Training loss: 1.584182246006094e-08 | Valid loss: 2.7188484091311693e-07 AUC: \n",
      "Epoch: 31 | Training loss: 6.921641033841298e-08 | Valid loss: 4.812997940462082e-07 AUC: \n",
      "Epoch: 32 | Training loss: 1.2127957597840578e-07 | Valid loss: 4.4402919593267145e-07 AUC: \n",
      "Epoch: 33 | Training loss: 1.1147876648465171e-07 | Valid loss: 2.1758026559837163e-07 AUC: \n",
      "Epoch: 34 | Training loss: 5.450158641906455e-08 | Valid loss: 4.9122460040962324e-08 AUC: \n",
      "Epoch: 35 | Training loss: 1.2097451872250531e-08 | Valid loss: 8.379316568607464e-08 AUC: \n",
      "Epoch: 36 | Training loss: 2.0415034668985754e-08 | Valid loss: 2.2774329409003257e-07 AUC: \n",
      "Epoch: 37 | Training loss: 5.604951365967281e-08 | Valid loss: 2.880890388041735e-07 AUC: \n",
      "Epoch: 38 | Training loss: 7.1038979513105e-08 | Valid loss: 1.977656502276659e-07 AUC: \n",
      "Epoch: 39 | Training loss: 4.878812251263298e-08 | Valid loss: 6.634135206695646e-08 AUC: \n",
      "Epoch: 40 | Training loss: 1.650578087719623e-08 | Valid loss: 2.9296028515091166e-08 AUC: \n",
      "Epoch: 41 | Training loss: 7.660324627067894e-09 | Valid loss: 9.602057980373502e-08 AUC: \n",
      "Epoch: 42 | Training loss: 2.4375307475565934e-08 | Valid loss: 1.6161522944457828e-07 AUC: \n",
      "Epoch: 43 | Training loss: 4.055903264088556e-08 | Valid loss: 1.42150282044895e-07 AUC: \n",
      "Epoch: 44 | Training loss: 3.55019474227447e-08 | Valid loss: 6.51765803922899e-08 AUC: \n",
      "Epoch: 45 | Training loss: 1.6200139725697225e-08 | Valid loss: 1.9868897652486338e-08 AUC: \n",
      "Epoch: 46 | Training loss: 4.8636147766956125e-09 | Valid loss: 4.490109495236538e-08 AUC: \n",
      "Epoch: 47 | Training loss: 1.1064942555094603e-08 | Valid loss: 9.183811926050112e-08 AUC: \n",
      "Epoch: 48 | Training loss: 2.272333404107485e-08 | Valid loss: 9.48959932429716e-08 AUC: \n",
      "Epoch: 49 | Training loss: 2.3510259779868648e-08 | Valid loss: 5.1093666115775706e-08 AUC: \n",
      "Epoch: 50 | Training loss: 1.2719501683022827e-08 | Valid loss: 1.4302338058769237e-08 AUC: \n",
      "Epoch: 51 | Training loss: 3.6923681818734622e-09 | Valid loss: 2.217156725237146e-08 AUC: \n",
      "Epoch: 52 | Training loss: 5.692667400580831e-09 | Valid loss: 5.299704571370967e-08 AUC: \n",
      "Epoch: 53 | Training loss: 1.3305396350915544e-08 | Valid loss: 6.064157059881836e-08 AUC: \n",
      "Epoch: 54 | Training loss: 1.512795552116586e-08 | Valid loss: 3.518623998388648e-08 AUC: \n",
      "Epoch: 55 | Training loss: 8.749788321438246e-09 | Valid loss: 1.0222321179753635e-08 AUC: \n",
      "Epoch: 56 | Training loss: 2.522391469028662e-09 | Valid loss: 1.4129981536825653e-08 AUC: \n",
      "Epoch: 57 | Training loss: 3.4824158774426904e-09 | Valid loss: 3.438614294282161e-08 AUC: \n",
      "Epoch: 58 | Training loss: 8.513626198691782e-09 | Valid loss: 3.920383824151941e-08 AUC: \n",
      "Epoch: 59 | Training loss: 9.729849807627034e-09 | Valid loss: 2.1798585294163785e-08 AUC: \n",
      "Epoch: 60 | Training loss: 5.4480956350744234e-09 | Valid loss: 6.032596047589322e-09 AUC: \n",
      "Epoch: 61 | Training loss: 1.5662920986869722e-09 | Valid loss: 1.0435592230351176e-08 AUC: \n",
      "Epoch: 62 | Training loss: 2.655226353454054e-09 | Valid loss: 2.3965081709320656e-08 AUC: \n",
      "Epoch: 63 | Training loss: 5.983286882838002e-09 | Valid loss: 2.5012504920596258e-08 AUC: \n",
      "Epoch: 64 | Training loss: 6.219576334842714e-09 | Valid loss: 1.24848456835025e-08 AUC: \n",
      "Epoch: 65 | Training loss: 3.103552444372326e-09 | Valid loss: 4.352643827587599e-09 AUC: \n",
      "Epoch: 66 | Training loss: 1.0845885753951734e-09 | Valid loss: 9.875451723928564e-09 AUC: \n",
      "Epoch: 67 | Training loss: 2.454213699820684e-09 | Valid loss: 1.7858210412668997e-08 AUC: \n",
      "Epoch: 68 | Training loss: 4.43766248281463e-09 | Valid loss: 1.5458550478797406e-08 AUC: \n",
      "Epoch: 69 | Training loss: 3.851672317978227e-09 | Valid loss: 6.7099731495545714e-09 AUC: \n",
      "Epoch: 70 | Training loss: 1.692093633209879e-09 | Valid loss: 4.1864718696160705e-09 AUC: \n",
      "Epoch: 71 | Training loss: 1.067875700755394e-09 | Valid loss: 9.58967302722158e-09 AUC: \n",
      "Epoch: 72 | Training loss: 2.40018584918289e-09 | Valid loss: 1.2975389836356044e-08 AUC: \n",
      "Epoch: 73 | Training loss: 3.2343691600544846e-09 | Valid loss: 9.076296009880025e-09 AUC: \n",
      "Epoch: 74 | Training loss: 2.2702181468048365e-09 | Valid loss: 4.219930815452244e-09 AUC: \n",
      "Epoch: 75 | Training loss: 1.0696546723920618e-09 | Valid loss: 5.09520805280772e-09 AUC: \n",
      "Epoch: 76 | Training loss: 1.2846305708080763e-09 | Valid loss: 8.835700100462418e-09 AUC: \n",
      "Epoch: 77 | Training loss: 2.2059139155317097e-09 | Valid loss: 8.913471901905723e-09 AUC: \n",
      "Epoch: 78 | Training loss: 2.219697080363403e-09 | Valid loss: 5.468340532388538e-09 AUC: \n",
      "Epoch: 79 | Training loss: 1.3637645679409615e-09 | Valid loss: 3.885677415382815e-09 AUC: \n",
      "Epoch: 80 | Training loss: 9.735250614539837e-10 | Valid loss: 5.776102625532076e-09 AUC: \n",
      "Epoch: 81 | Training loss: 1.44734781315492e-09 | Valid loss: 7.2538969106972215e-09 AUC: \n",
      "Epoch: 82 | Training loss: 1.8217893966721022e-09 | Valid loss: 5.825964763062075e-09 AUC: \n",
      "Epoch: 83 | Training loss: 1.476164015912218e-09 | Valid loss: 3.9066344470484185e-09 AUC: \n",
      "Epoch: 84 | Training loss: 1.0026416248365421e-09 | Valid loss: 4.231231741869123e-09 AUC: \n",
      "Epoch: 85 | Training loss: 1.0765330671347328e-09 | Valid loss: 5.6497233344998674e-09 AUC: \n",
      "Epoch: 86 | Training loss: 1.4167586641633535e-09 | Valid loss: 5.623665856546722e-09 AUC: \n",
      "Epoch: 87 | Training loss: 1.4002569059812232e-09 | Valid loss: 4.3341542550479066e-09 AUC: \n",
      "Epoch: 88 | Training loss: 1.076841726899147e-09 | Valid loss: 3.836865744233364e-09 AUC: \n",
      "Epoch: 89 | Training loss: 9.582499842508696e-10 | Valid loss: 4.5394122025754765e-09 AUC: \n",
      "Epoch: 90 | Training loss: 1.1437197144914534e-09 | Valid loss: 4.91818036607583e-09 AUC: \n"
     ]
    },
    {
     "name": "stdout",
     "output_type": "stream",
     "text": [
      "Epoch: 91 | Training loss: 1.250284640263999e-09 | Valid loss: 4.267110398359364e-09 AUC: \n",
      "Epoch: 92 | Training loss: 1.0959936389554059e-09 | Valid loss: 3.6495835047389847e-09 AUC: \n",
      "Epoch: 93 | Training loss: 9.400031899531313e-10 | Valid loss: 3.921287316188682e-09 AUC: \n",
      "Epoch: 94 | Training loss: 9.964355740521569e-10 | Valid loss: 4.433876711118501e-09 AUC: \n",
      "Epoch: 95 | Training loss: 1.1112911124655512e-09 | Valid loss: 4.299825832276838e-09 AUC: \n",
      "Epoch: 96 | Training loss: 1.07088226286578e-09 | Valid loss: 3.7923809941275975e-09 AUC: \n",
      "Epoch: 97 | Training loss: 9.464490062782716e-10 | Valid loss: 3.68990731658414e-09 AUC: \n",
      "Epoch: 98 | Training loss: 9.3057502681404e-10 | Valid loss: 3.960629783250624e-09 AUC: \n",
      "Epoch: 99 | Training loss: 1.0105960654982483e-09 | Valid loss: 3.975587333115982e-09 AUC: \n",
      "Epoch: 100 | Training loss: 1.0233661669190041e-09 | Valid loss: 3.650992766779382e-09 AUC: \n",
      "Epoch: 101 | Training loss: 9.42881229093473e-10 | Valid loss: 3.518086941767251e-09 AUC: \n",
      "Epoch: 102 | Training loss: 9.012564419208502e-10 | Valid loss: 3.751903705051518e-09 AUC: \n",
      "Epoch: 103 | Training loss: 9.477051321482578e-10 | Valid loss: 3.908516646333737e-09 AUC: \n",
      "Epoch: 104 | Training loss: 9.788058150661527e-10 | Valid loss: 3.7245349631120916e-09 AUC: \n",
      "Epoch: 105 | Training loss: 9.330750572189573e-10 | Valid loss: 3.5162440781277836e-09 AUC: \n",
      "Epoch: 106 | Training loss: 8.886597697710386e-10 | Valid loss: 3.5621928873297294e-09 AUC: \n",
      "Epoch: 107 | Training loss: 9.104329592446447e-10 | Valid loss: 3.6532030662783655e-09 AUC: \n",
      "Epoch: 108 | Training loss: 9.404081993125146e-10 | Valid loss: 3.553412852852489e-09 AUC: \n",
      "Epoch: 109 | Training loss: 9.15737700779573e-10 | Valid loss: 3.4340027923462913e-09 AUC: \n",
      "Epoch: 110 | Training loss: 8.79289700606023e-10 | Valid loss: 3.5100522381981135e-09 AUC: \n",
      "Epoch: 111 | Training loss: 8.891107086128613e-10 | Valid loss: 3.630836999946041e-09 AUC: \n",
      "Epoch: 112 | Training loss: 9.13477720132505e-10 | Valid loss: 3.5740731618716383e-09 AUC: \n",
      "Epoch: 113 | Training loss: 9.001294642985159e-10 | Valid loss: 3.4372912978142268e-09 AUC: \n",
      "Epoch: 114 | Training loss: 8.723173436919751e-10 | Valid loss: 3.419173708607559e-09 AUC: \n",
      "Epoch: 115 | Training loss: 8.753335123401485e-10 | Valid loss: 3.4687195693550166e-09 AUC: \n",
      "Epoch: 116 | Training loss: 8.918790967982204e-10 | Valid loss: 3.442645493123564e-09 AUC: \n",
      "Epoch: 117 | Training loss: 8.839620591061248e-10 | Valid loss: 3.3893290947162313e-09 AUC: \n",
      "Epoch: 118 | Training loss: 8.649507776681276e-10 | Valid loss: 3.419031600060407e-09 AUC: \n",
      "Epoch: 119 | Training loss: 8.662282766636054e-10 | Valid loss: 3.4725437672022962e-09 AUC: \n"
     ]
    }
   ],
   "source": [
    "nnet.to(device)\n",
    "\n",
    "loss_by_epoch = []\n",
    "\n",
    "val_loss_by_epoch = []\n",
    "\n",
    "epocas = 120\n",
    "for epoch in range(epocas):\n",
    "\n",
    "    #########################################################################\n",
    "    ####### TRAINING\n",
    "    #########################################################################\n",
    "\n",
    "    nnet.train(True)\n",
    "    epoch_train_loss = 0\n",
    "\n",
    "    for i_train, data_train in enumerate(train_dataloader):\n",
    "\n",
    "        # obtener los datos del batch\n",
    "        X_train_batch, y_train_batch = data_train\n",
    "\n",
    "        X_train_batch = X_train_batch.to(device).float()\n",
    "        y_train_batch = y_train_batch.to(device).float()\n",
    "\n",
    "        # forward\n",
    "        optimizer.zero_grad()\n",
    "\n",
    "        y_train_batch_hat = nnet(X_train_batch)\n",
    "        \n",
    "        # calcula loss\n",
    "        loss_train = loss_function(y_train_batch_hat, y_train_batch)\n",
    "\n",
    "        # backpropagation\n",
    "        optimizer.zero_grad()\n",
    "        loss_train.backward()\n",
    "\n",
    "        # actualizar los parameteros\n",
    "        optimizer.step()\n",
    "\n",
    "        # acumula loss\n",
    "        epoch_train_loss = epoch_train_loss + loss_train.item() \n",
    "        \n",
    "    loss_by_epoch.append(epoch_train_loss  / len(train_ds))    \n",
    "\n",
    "\n",
    "    #########################################################################\n",
    "    ####### VALIDACION\n",
    "    #########################################################################\n",
    "\n",
    "    nnet.train(False)\n",
    "\n",
    "    val_epoch_loss = 0\n",
    "\n",
    "    for i_train, data_valid in enumerate(valid_dataloader):\n",
    "\n",
    "        # obtener los datos del batch\n",
    "        X_valid_batch, y_valid_batch = data_valid\n",
    "\n",
    "        X_valid_batch = X_valid_batch.to(device).float()\n",
    "        y_valid_batch = y_valid_batch.to(device).float()\n",
    "\n",
    "        # forward\n",
    "        optimizer.zero_grad()\n",
    "        y_valid_batch_hat = nnet(X_valid_batch)\n",
    "        \n",
    "        # calcula loss\n",
    "        loss_val = loss_function(y_valid_batch_hat, y_valid_batch)\n",
    "\n",
    "        # acumula loss\n",
    "        val_epoch_loss = val_epoch_loss + loss_val.item() \n",
    "        \n",
    "    val_loss_by_epoch.append(val_epoch_loss / len(valid_ds))\n",
    "\n",
    "    #########################################################################\n",
    "    ####### IMPRIME AVANCE DE ENTRENAMIENTO\n",
    "    #########################################################################\n",
    "\n",
    "    print(f\"Epoch: {epoch} | Training loss: {epoch_train_loss / n_train} | Valid loss: {val_epoch_loss / n_valid} AUC: \")"
   ]
  },
  {
   "cell_type": "code",
   "execution_count": 29,
   "metadata": {},
   "outputs": [
    {
     "data": {
      "text/plain": [
       "[<matplotlib.lines.Line2D at 0x208250875e0>]"
      ]
     },
     "execution_count": 29,
     "metadata": {},
     "output_type": "execute_result"
    },
    {
     "data": {
      "image/png": "[encoded data removed]",
      "text/plain": [
       "<Figure size 432x288 with 1 Axes>"
      ]
     },
     "metadata": {
      "needs_background": "light"
     },
     "output_type": "display_data"
    }
   ],
   "source": [
    "import matplotlib.pyplot as plt\n",
    "fix, ax1 = plt.subplots(1,1)\n",
    "ax1.plot(loss_by_epoch, color='red')\n",
    "ax1.plot(val_loss_by_epoch, color='blue')"
   ]
  },
  {
   "cell_type": "code",
   "execution_count": 30,
   "metadata": {},
   "outputs": [
    {
     "name": "stdout",
     "output_type": "stream",
     "text": [
      "**** Se desplazan las curvas para poder apreciar que son todas iguales\n"
     ]
    },
    {
     "data": {
      "image/png": "[encoded data removed]",
      "text/plain": [
       "<Figure size 720x432 with 1 Axes>"
      ]
     },
     "metadata": {
      "needs_background": "light"
     },
     "output_type": "display_data"
    }
   ],
   "source": [
    "nnet.train(False)\n",
    "\n",
    "train_dataloader = DataLoader(train_ds, batch_size=20000, shuffle=True)\n",
    "valid_dataloader = DataLoader(valid_ds, batch_size=20000, shuffle=True)\n",
    "\n",
    "data_iter_va=iter(valid_dataloader)\n",
    "data_iter_tr=iter(train_dataloader)\n",
    "\n",
    "X_batch_tr, y_batch_tr = data_iter_tr.next()\n",
    "X_batch_va, y_batch_va = data_iter_va.next()\n",
    "\n",
    "\n",
    "X_batch_tr = X_batch_tr.to(device).float()\n",
    "y_batch_tr = y_batch_tr.to(device).float()\n",
    "\n",
    "X_batch_va = X_batch_va.to(device).float()\n",
    "y_batch_va = y_batch_va.to(device).float()\n",
    "\n",
    "y_batch_hat_tr = nnet(X_batch_tr)\n",
    "y_batch_hat_va = nnet(X_batch_va)\n",
    "\n",
    "#print(y_batch_hat, y_batch)\n",
    "print('**** Se desplazan las curvas para poder apreciar que son todas iguales')\n",
    "plt.figure(figsize=(10,6))\n",
    "plt.scatter(X_batch_tr, y_batch_hat_tr.detach().numpy()+1, color='red')\n",
    "plt.scatter(X_batch_va, y_batch_hat_va.detach().numpy()+2, color='green')\n",
    "plt.scatter(x_train, y_train+3, color='blue')\n",
    "plt.scatter(x, y, color='pink')\n",
    "plt.show()"
   ]
  }
 ],
 "metadata": {
  "colab": {
   "provenance": []
  },
  "kernelspec": {
   "display_name": "Python 3 (ipykernel)",
   "language": "python",
   "name": "python3"
  },
  "language_info": {
   "codemirror_mode": {
    "name": "ipython",
    "version": 3
   },
   "file_extension": ".py",
   "mimetype": "text/x-python",
   "name": "python",
   "nbconvert_exporter": "python",
   "pygments_lexer": "ipython3",
   "version": "3.9.11"
  }
 },
 "nbformat": 4,
 "nbformat_minor": 1
}
