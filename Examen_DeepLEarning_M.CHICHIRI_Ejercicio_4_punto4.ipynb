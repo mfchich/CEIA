{
 "cells": [
  {
   "cell_type": "markdown",
   "id": "36aa48f3",
   "metadata": {},
   "source": [
    "# Trabajo Práctico Final\n",
    "## Aprendizaje Profundo\n",
    "## Ejercicio 4\n",
    "\n",
    "\n",
    "##  Cohorte : 6Co2022\n",
    "\n",
    "### Marcelo Chichiri"
   ]
  },
  {
   "cell_type": "markdown",
   "id": "afa4aae0",
   "metadata": {},
   "source": [
    "#### Enunciado :\n",
    "Se tiene la función y = a * log(b) + b * c^2. Calcular las derivadas de 'y' respecto a los parámetros a, b, c, evaluando en los valores a=2, b=10, c=0.5. Se deben calcular las derivadas por el siguiente método:\n",
    "\n",
    "Utilizando PyTorch (automatic differentiation)\n",
    "\n",
    "Nota : Los puntos 1, 2 y 3 se hicieron a mano. Están en otro archivo."
   ]
  },
  {
   "cell_type": "code",
   "execution_count": 1,
   "id": "98dc8c83",
   "metadata": {},
   "outputs": [],
   "source": [
    "# Se cargan las librerias\n",
    "from torch import FloatTensor\n",
    "from torch.autograd import Variable\n",
    "import numpy as np\n",
    "import torch "
   ]
  },
  {
   "cell_type": "code",
   "execution_count": 2,
   "id": "77ce76a1",
   "metadata": {},
   "outputs": [
    {
     "name": "stdout",
     "output_type": "stream",
     "text": [
      "Gradiente de y respecto a w1: 2.3025851249694824\n",
      "Gradiente de y respecto a w2: 0.44999998807907104\n",
      "Gradiente de y respecto a w3: 10.0\n"
     ]
    }
   ],
   "source": [
    "# Ecuación a diferenciar\n",
    "# y = a * log(b) + b * c**2\n",
    "\n",
    "# No se definien constantes por no ser necesarias\n",
    "#const = Variable(FloatTensor([1]))\n",
    "\n",
    "weights = [Variable(FloatTensor([i]), requires_grad=True) for i in (2, 10, 0.5)]\n",
    "\n",
    "# desempaqueta los pesos a obtener\n",
    "w1, w2, w3 = weights\n",
    "\n",
    "# Convierto los pesos en variables a, b y c para que se relacione mejor con la formula a diferenciar\n",
    "# La formula a diferencia tambien prodria ser y = w1 * torch.log(w2) +  w2 * w3**2\n",
    "a = w1\n",
    "b = w2\n",
    "c = w3\n",
    "y = a * torch.log(b) +  b * c**2   \n",
    "\n",
    "y.backward()\n",
    "\n",
    "for index, weight in enumerate(weights, start=1):\n",
    "    gradient, *_ = weight.grad.data\n",
    "    print(f\"Gradiente de y respecto a w{index}: {gradient}\")"
   ]
  }
 ],
 "metadata": {
  "kernelspec": {
   "display_name": "Python 3 (ipykernel)",
   "language": "python",
   "name": "python3"
  },
  "language_info": {
   "codemirror_mode": {
    "name": "ipython",
    "version": 3
   },
   "file_extension": ".py",
   "mimetype": "text/x-python",
   "name": "python",
   "nbconvert_exporter": "python",
   "pygments_lexer": "ipython3",
   "version": "3.9.11"
  }
 },
 "nbformat": 4,
 "nbformat_minor": 5
}
